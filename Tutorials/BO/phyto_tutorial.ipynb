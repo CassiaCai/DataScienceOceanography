{
 "cells": [
  {
   "cell_type": "markdown",
   "metadata": {},
   "source": [
    "# Biological Oceanography (BO)\n",
    "\n",
    "<img src=\"Prochlorococcus_marinus.jpeg\"/>\n",
    "\n",
    "\n",
    "This tutorial is part of our Biological Oceanography day. It demonstrates how to do basic analysis and visualization of gridded biological data. We will use A,B,and C data which can be downloaded using CMAP API, a giant data database for Earth system observations and modeling. To download the data using API, please register at CMAP and generate your API key.\n",
    "\n",
    "### Estimated tutorial time: 1.5 hours\n",
    "\n",
    "## Tutorial goals\n",
    "\n",
    "- Python Skills\n",
    "    - Work with dataframes\n",
    "    - Make different statistical plots\n",
    "    - Data co-location\n",
    "- BO knowledge\n",
    "    - Learn about global ocean photosynthesis and primary productivity signatures from satellite observations \n",
    "    - Understand the vertical distributions of chlorophyll, nutrients, and light availability in the ocean\n",
    "    - Explore biodiversity and how populations change in different regions of the ocean\n",
    "    \n",
    "## Reading \n",
    "\n",
    "Brierley, A. S. (2017). Plankton. Current Biology, 27(11), R478-R483. https://www.sciencedirect.com/science/article/pii/S0960982217302154\n",
    "\n",
    "Armbrust, E. V., & Palumbi, S. R. (2015). Uncovering hidden worlds of ocean biodiversity. Science, 348(6237), 865-867. https://doi.org/10.1126/science.aaa7378\n",
    "\n",
    "Bristow, L. A., Mohr, W., Ahmerkamp, S., & Kuypers, M. M. (2017). Nutrients that limit growth in the ocean. Current Biology, 27(11), R474-R478. https://www.sciencedirect.com/science/article/pii/S0960982217303287\n",
    "\n",
    "Tang, W., Llort, J., Weis, J., Perron, M. M., Basart, S., Li, Z., ... & Cassar, N. (2021). Widespread phytoplankton blooms triggered by 2019–2020 Australian wildfires. Nature, 597(7876), 370-375. https://www.nature.com/articles/s41586-021-03805-8\n",
    "\n",
    "Sala, E., Mayorga, J., Bradley, D. et al. Protecting the global ocean for biodiversity, food and climate. Nature 592, 397–402 (2021). https://doi.org/10.1038/s41586-021-03371-z\n",
    "\n",
    "# Let's start!"
   ]
  },
  {
   "cell_type": "code",
   "execution_count": 10,
   "metadata": {},
   "outputs": [
    {
     "name": "stdout",
     "output_type": "stream",
     "text": [
      "Defaulting to user installation because normal site-packages is not writeable\n",
      "Collecting git+git://github.com/iobis/pyworms.git\n",
      "  Cloning git://github.com/iobis/pyworms.git to /tmp/pip-req-build-j8cm6912\n",
      "  Running command git clone -q git://github.com/iobis/pyworms.git /tmp/pip-req-build-j8cm6912\n",
      "  fatal: unable to connect to github.com:\n",
      "  github.com[0: 192.30.255.112]: errno=Connection timed out\n",
      "\n",
      "\u001b[33mWARNING: Discarding git+git://github.com/iobis/pyworms.git. Command errored out with exit status 128: git clone -q git://github.com/iobis/pyworms.git /tmp/pip-req-build-j8cm6912 Check the logs for full command output.\u001b[0m\n",
      "\u001b[31mERROR: Command errored out with exit status 128: git clone -q git://github.com/iobis/pyworms.git /tmp/pip-req-build-j8cm6912 Check the logs for full command output.\u001b[0m\n"
     ]
    }
   ],
   "source": [
    "!pip install git+git://github.com/iobis/pyworms.git"
   ]
  },
  {
   "cell_type": "code",
   "execution_count": 9,
   "metadata": {},
   "outputs": [
    {
     "ename": "ModuleNotFoundError",
     "evalue": "No module named 'pyworms'",
     "output_type": "error",
     "traceback": [
      "\u001b[0;31m---------------------------------------------------------------------------\u001b[0m",
      "\u001b[0;31mModuleNotFoundError\u001b[0m                       Traceback (most recent call last)",
      "\u001b[0;32m<ipython-input-9-57be3fd04b64>\u001b[0m in \u001b[0;36m<module>\u001b[0;34m\u001b[0m\n\u001b[1;32m     14\u001b[0m \u001b[0;32mfrom\u001b[0m \u001b[0mmatplotlib\u001b[0m\u001b[0;34m.\u001b[0m\u001b[0mcolors\u001b[0m \u001b[0;32mimport\u001b[0m \u001b[0mLogNorm\u001b[0m\u001b[0;34m\u001b[0m\u001b[0;34m\u001b[0m\u001b[0m\n\u001b[1;32m     15\u001b[0m \u001b[0;32mimport\u001b[0m \u001b[0mxarray\u001b[0m \u001b[0;32mas\u001b[0m \u001b[0mxr\u001b[0m\u001b[0;34m\u001b[0m\u001b[0;34m\u001b[0m\u001b[0m\n\u001b[0;32m---> 16\u001b[0;31m \u001b[0;32mimport\u001b[0m \u001b[0mpyworms\u001b[0m\u001b[0;34m\u001b[0m\u001b[0;34m\u001b[0m\u001b[0m\n\u001b[0m",
      "\u001b[0;31mModuleNotFoundError\u001b[0m: No module named 'pyworms'"
     ]
    }
   ],
   "source": [
    "import pandas as pd\n",
    "import numpy as np\n",
    "import pycmap\n",
    "import plotly.express as px\n",
    "\n",
    "import matplotlib.pyplot as plt\n",
    "\n",
    "import cartopy.crs as ccrs         # to plot maps with different projections\n",
    "import cartopy.feature as cfeature # to plot coastlines, land, borders, etc.\n",
    "\n",
    "#!pip install joypy\n",
    "from joypy import joyplot          # to make nice-looking ridge plots \n",
    "\n",
    "from matplotlib.colors import LogNorm\n",
    "import xarray as xr\n",
    "import pyworms"
   ]
  },
  {
   "cell_type": "markdown",
   "metadata": {},
   "source": [
    "## Chlorophyll A estimates from satellite observations of ocean color\n",
    "\n",
    "#### Get the API key by registering at simonscmap.com and then going to https://simonscmap.com/apikeymanagement\n",
    "\n",
    "#### Create a file .cmap_key in your home directory and save your personal API key there as a single line"
   ]
  },
  {
   "cell_type": "code",
   "execution_count": null,
   "metadata": {},
   "outputs": [],
   "source": [
    "## loading api key from kathy's local\n",
    "import decouple\n",
    "from decouple import config\n",
    "config = decouple.AutoConfig(' ')\n",
    "key = config('KEY')\n",
    "api = pycmap.API(token=key)"
   ]
  },
  {
   "cell_type": "code",
   "execution_count": null,
   "metadata": {},
   "outputs": [],
   "source": [
    "# key =!tail \"$HOME/$usr/.cmap_key\"    # reading the last line from a file using a system command\n",
    "# api = pycmap.API(token=key[0])       # call api using your unique API key"
   ]
  },
  {
   "cell_type": "markdown",
   "metadata": {},
   "source": [
    "### maybe we can show a summer and months?- summer below"
   ]
  },
  {
   "cell_type": "code",
   "execution_count": null,
   "metadata": {},
   "outputs": [],
   "source": [
    "summer_modis=api.query(\n",
    "         '''\n",
    "         SELECT [time], lat, lon, chl FROM tblCHL_REP \n",
    "         WHERE \n",
    "         [time] BETWEEN '2016-06-01' AND '2016-06-16' AND \n",
    "         lat BETWEEN -90 AND 90 AND \n",
    "         lon BETWEEN -180 AND 180\n",
    "         '''\n",
    "         ) \n",
    "df_rows = pd.DataFrame(summer_modis).set_index([\"time\",  \"lat\", \"lon\"])\n",
    "ds = xr.Dataset.from_dataframe(df_rows)\n",
    "chl=ds['chl'].mean('time');\n",
    "\n",
    "del summer_modis, ds # free some memory by deleting the no longer needed variables."
   ]
  },
  {
   "cell_type": "code",
   "execution_count": null,
   "metadata": {},
   "outputs": [],
   "source": [
    "cmap=plt.get_cmap('Greens')\n",
    "\n",
    "plt.figure(figsize=(20,8))\n",
    "ax = plt.axes(projection=ccrs.PlateCarree())\n",
    "\n",
    "gl=ax.gridlines(draw_labels=True)\n",
    "gl.top_labels = False\n",
    "gl.xlines=None\n",
    "gl.ylines=None\n",
    "\n",
    "im=plt.imshow(chl, \n",
    "           cmap=cmap,\n",
    "           norm=LogNorm(vmin=0.02, vmax=2),\n",
    "           extent=[-180,180,90,-90])\n",
    "plt.colorbar(im,shrink=0.5, label='Chlorophyll a [mg m$^{-3}$]')\n",
    "ax.invert_yaxis()\n",
    "\n",
    "ax.add_feature(cfeature.COASTLINE)\n",
    "ax.add_feature(cfeature.LAND)\n",
    "ax.add_feature(cfeature.BORDERS);"
   ]
  },
  {
   "cell_type": "markdown",
   "metadata": {},
   "source": [
    "#### winter"
   ]
  },
  {
   "cell_type": "code",
   "execution_count": null,
   "metadata": {},
   "outputs": [],
   "source": [
    "winter_modis=api.query(\n",
    "         '''\n",
    "         SELECT [time], lat, lon, chl FROM tblCHL_REP \n",
    "         WHERE \n",
    "         [time] BETWEEN '2016-12-01' AND '2016-12-16' AND \n",
    "         lat BETWEEN -90 AND 90 AND \n",
    "         lon BETWEEN -180 AND 180\n",
    "         '''\n",
    "         ) \n",
    "df_rows = pd.DataFrame(winter_modis).set_index([\"time\",  \"lat\", \"lon\"])\n",
    "ds = xr.Dataset.from_dataframe(df_rows)\n",
    "chl=ds['chl'].mean('time');\n",
    "\n",
    "del winter_modis, ds # free some memory by deleting the no longer needed variables."
   ]
  },
  {
   "cell_type": "code",
   "execution_count": null,
   "metadata": {},
   "outputs": [],
   "source": [
    "cmap=plt.get_cmap('Greens')\n",
    "\n",
    "plt.figure(figsize=(20,8))\n",
    "ax = plt.axes(projection=ccrs.PlateCarree())\n",
    "\n",
    "gl=ax.gridlines(draw_labels=True)\n",
    "gl.top_labels = False\n",
    "gl.xlines=None\n",
    "gl.ylines=None\n",
    "\n",
    "im=plt.imshow(chl, \n",
    "           cmap=cmap,\n",
    "           norm=LogNorm(vmin=0.02, vmax=2),\n",
    "           extent=[-180,180,90,-90])\n",
    "plt.colorbar(im,shrink=0.5, label='Chlorophyll a [mg m$^{-3}$]')\n",
    "ax.invert_yaxis()\n",
    "\n",
    "ax.add_feature(cfeature.COASTLINE)\n",
    "ax.add_feature(cfeature.LAND)\n",
    "ax.add_feature(cfeature.BORDERS);"
   ]
  },
  {
   "cell_type": "markdown",
   "metadata": {},
   "source": [
    "## In-class exercise \\#1: querry the chlorophyll time series averaged over a region in North Atlantic\n",
    "\n",
    "Instructions:\n",
    " - Follow the \"Query\" Example \\#2 provided by CMAP under Data Retrieval (API) section of the documentation: https://github.com/simonscmap/pycmap#1-data-retrieval-api \n",
    " - Use SQL language for denoting averaged quantities, like AVG(lat) and AVG(chl) \n",
    " - Specify the boundaries of the box: lat BETWEEN 40 AND 50 AND lon BETWEEN -40 AND -20\n",
    " - Use SQL language to group and order by time as: GROUP BY [time] and ORDER BY [time] \n",
    " - change the time column to be a proper datetime variable for easy manipulation and cleaner plots: pd.to_datetime(time_variable)\n",
    " - make a final plot of chlorophyl concentration averaged within the North Atlantic box.\n",
    " - does the chlorophyl concentration vary smoothly or spiky? \n"
   ]
  },
  {
   "cell_type": "code",
   "execution_count": null,
   "metadata": {},
   "outputs": [],
   "source": [
    "#Solution\n",
    "modis_NA=api.query(\n",
    "         '''\n",
    "         SELECT [time], AVG(lat) AS lat, AVG(lon) AS lon, AVG(chl) AS chl FROM tblCHL_REP \n",
    "         WHERE \n",
    "         [time] BETWEEN '2010-06-01' AND '2022-10-01' AND \n",
    "         lat BETWEEN 40 AND 50 AND \n",
    "         lon BETWEEN -40 AND -20\n",
    "         GROUP BY [time] \n",
    "         ORDER BY [time] \n",
    "         '''\n",
    "         ) \n",
    "modis_NA.time=pd.to_datetime(modis_NA.time)"
   ]
  },
  {
   "cell_type": "code",
   "execution_count": null,
   "metadata": {},
   "outputs": [],
   "source": [
    "plt.figure(figsize=(10,4))\n",
    "plt.plot(modis_NA.time, modis_NA.chl,'g');\n",
    "plt.ylabel('Chlorophyll a [mg/m$^3$]');"
   ]
  },
  {
   "cell_type": "code",
   "execution_count": null,
   "metadata": {},
   "outputs": [],
   "source": [
    "modis_NA.time"
   ]
  },
  {
   "cell_type": "markdown",
   "metadata": {},
   "source": [
    "## Chlorophyll distribution with depth: light attenuation vs lack of nutrients"
   ]
  },
  {
   "cell_type": "markdown",
   "metadata": {},
   "source": [
    "Recall that photosynthesis requires light and nutrients for primary production to occur. At the same time, the light is most available at the surface and it decays exponentially with depth. However, during the Chemical Oceanography tutorial we figured out that there is a lack of nutrients at the surface of the ocean. So where in the water column does photosynesis predominantly occur? \n",
    "\n",
    "<img src=\"Attenuation-of-light-underwater.png\" width=400/>"
   ]
  },
  {
   "cell_type": "markdown",
   "metadata": {},
   "source": [
    "### Let's address this question using the already familiar HOT dataset"
   ]
  },
  {
   "cell_type": "code",
   "execution_count": null,
   "metadata": {
    "tags": []
   },
   "outputs": [],
   "source": [
    "# read in hawaii ocean time series (HOT) data (1998-2019)\n",
    "## https://simonscmap.com/catalog/datasets/HOT_PP\n",
    "HOT = api.get_dataset('tblHOT_PP')\n",
    "print(f'HOT columns only: {HOT.columns.values.tolist()}\\n')"
   ]
  },
  {
   "cell_type": "code",
   "execution_count": null,
   "metadata": {},
   "outputs": [],
   "source": [
    "#The HOT data comes at different depths, so let's make those into categories\n",
    "HOT['depth_cat'] = HOT['depth']//20*20;  #using the floor division operator // to create depth bins separated by 20m.\n",
    "HOT[HOT['depth_cat']==80]=np.nan;        #excluding categories where there is a small number of observations"
   ]
  },
  {
   "cell_type": "code",
   "execution_count": null,
   "metadata": {},
   "outputs": [],
   "source": [
    "fig, axes = joyplot(HOT, by = 'depth_cat', column = 'chl_hot', \n",
    "                    color='Green', fade = True, \n",
    "                    title='Distributions of Chlorophyll concentrations',\n",
    "                    x_range=[-0.05,0.41],\n",
    "                    hist=True, bins=np.linspace(0, 0.4,30), overlap=0,\n",
    "                    figsize=(8,8))\n",
    "axes[-1].set_xlabel('Chlorophyll [mg/m$^3$]') \n",
    "axes[4].set_ylabel('Depth [m]') \n",
    "plt.savefig('chl_depth.pdf')\n",
    "plt.show()"
   ]
  },
  {
   "cell_type": "markdown",
   "metadata": {},
   "source": [
    "#### maybe an alternate dataset we could use to show light attenuation could be the AMT"
   ]
  },
  {
   "cell_type": "code",
   "execution_count": null,
   "metadata": {},
   "outputs": [],
   "source": [
    "amt = api.get_dataset('tblAMT13_Chisholm')"
   ]
  },
  {
   "cell_type": "code",
   "execution_count": null,
   "metadata": {},
   "outputs": [],
   "source": [
    "# show light attenuation with chlorophyll\n",
    "fig = px.scatter(amt, x='Light_Quanta_m2_sec_AMT13', y='depth', color=np.log(amt['chlA_AMT13']))\n",
    "# show depth profile with light\n",
    "fig.update_layout(\n",
    "    \n",
    "    xaxis={'side': 'top'}, \n",
    "    yaxis={'side': 'left'}  \n",
    ")"
   ]
  },
  {
   "cell_type": "code",
   "execution_count": null,
   "metadata": {},
   "outputs": [],
   "source": [
    "# look at MLD depths, different columns based on criteria, not sure which one to use\n",
    "mld_cols = [col for col in amt if col.startswith('MLD')]\n",
    "plt.figure(figsize=(10, 6))\n",
    "for n in mld_cols:\n",
    "    plt.plot(amt['lat'], amt[n], label=n)\n",
    "plt.legend()\n",
    "## ask Georgy which is best?"
   ]
  },
  {
   "cell_type": "code",
   "execution_count": null,
   "metadata": {
    "scrolled": true
   },
   "outputs": [],
   "source": [
    "# transform dataset from wide to long\n",
    "sub = amt[['depth','chlA_AMT13']]\n",
    "sub = pd.concat([sub, amt[mld_cols]], axis=1)\n",
    "# melt from wide to long\n",
    "long_mld = pd.melt(sub,\n",
    "                       ['depth','chlA_AMT13'],\n",
    "                       var_name='MLD_crit',\n",
    "                       value_name='MLD')\n",
    "# is depth below/above MLD?\n",
    "long_mld['above'] = long_mld['depth'] < long_mld['MLD']\n",
    "# plot \n",
    "fig = px.histogram(long_mld, x=(long_mld['chlA_AMT13']), \n",
    "             facet_row='above', facet_col='MLD_crit', color='above', nbins=20)\n",
    "# clean up\n",
    "fig.for_each_annotation(lambda a: a.update(text=a.text.split(\"=\")[-1]))"
   ]
  },
  {
   "cell_type": "markdown",
   "metadata": {},
   "source": [
    "## What micro-organisms are there in the ocean?\n",
    "\n",
    "<img src=\"organisms.png\"/>\n",
    "\n",
    "Armbrust, E. V., & Palumbi, S. R. (2015). Uncovering hidden worlds of ocean biodiversity. Science, 348(6237), 865-867. https://doi.org/10.1126/science.aaa7378"
   ]
  },
  {
   "cell_type": "markdown",
   "metadata": {},
   "source": [
    "### Seaflow and IFCB datasets for community shifts"
   ]
  },
  {
   "cell_type": "code",
   "execution_count": null,
   "metadata": {},
   "outputs": [],
   "source": [
    "# read in seaflow dataset (surface level- 5m- continuous samples across 50 cruises)\n",
    "seaflow = api.get_dataset('tblSeaFlow')\n",
    "print(f'seaflow columns only: {seaflow.columns.values.tolist()}\\n')\n",
    "# can also get with ancilliary data\n",
    "#seaflow_all = api.get_dataset_with_ancillary(\"tblSeaFlow\")\n",
    "#print(f'seaflow with ancilliary: {seaflow_all.columns.values.tolist()}')"
   ]
  },
  {
   "cell_type": "code",
   "execution_count": null,
   "metadata": {},
   "outputs": [],
   "source": [
    "seaflow.cruise.unique()"
   ]
  },
  {
   "cell_type": "code",
   "execution_count": null,
   "metadata": {
    "tags": []
   },
   "outputs": [],
   "source": [
    "##Example plot of prochlorococcus biomass distribution for seaflow\n",
    "#fig = px.scatter_geo(seaflow, lat='lat',lon='lon',color='abundance_prochloro')\n",
    "#fig.show()\n",
    "\n",
    "ind=seaflow['cruise']=='KOK1606'\n",
    "\n",
    "plt.figure(figsize=(15,5))\n",
    "ax = plt.axes(projection=ccrs.PlateCarree(central_longitude=180)); #this specifies which projection to use\n",
    "ax.set_global();\n",
    "ax.add_feature(cfeature.COASTLINE);\n",
    "ax.add_feature(cfeature.LAND);\n",
    "#ax.add_feature(cfeature.BORDERS);\n",
    "im=ax.scatter(seaflow['lon'],seaflow['lat'],30,c=seaflow['abundance_prochloro'],transform=ccrs.PlateCarree());\n",
    "plt.colorbar(im);\n"
   ]
  },
  {
   "cell_type": "markdown",
   "metadata": {},
   "source": [
    "### Seaflow Size classes: <5µm"
   ]
  },
  {
   "cell_type": "code",
   "execution_count": null,
   "metadata": {},
   "outputs": [],
   "source": [
    "# pull out seaflow data from G2 to compare with IFCB abundances\n",
    "seaflow_g2 = seaflow[seaflow['cruise']=='MGL1704']\n",
    "# take a daily average to avoid diel cycle oscillations\n",
    "seaflow_g2['time'] = pd.DatetimeIndex(seaflow_g2['time'])\n",
    "seaflow_daily = seaflow_g2.groupby([pd.Grouper(key=\"time\", freq='12H'), \n",
    "                            pd.Grouper(key=\"cruise\")]).mean().reset_index()\n",
    "plt.figure(figsize=(8,6))\n",
    "# plot Pro- abundance in cells/µL\n",
    "plt.plot(seaflow_daily['lat'], seaflow_daily['abundance_prochloro'], marker='o', linestyle='', label='Pro')\n",
    "# plot Syn\n",
    "plt.plot(seaflow_daily['lat'], seaflow_daily['abundance_synecho'], marker='o', linestyle='', label='Syn')\n",
    "# label approximately where gyre starts/stops\n",
    "plt.legend()"
   ]
  },
  {
   "cell_type": "markdown",
   "metadata": {},
   "source": [
    "### IFCB size classes: <10 to 150 μm"
   ]
  },
  {
   "cell_type": "code",
   "execution_count": null,
   "metadata": {},
   "outputs": [],
   "source": [
    "# Read in G2 IFCB data- all at surface 5m (same as Seaflow)\n",
    "ifcb_g2 = api.get_dataset('tblMGL1704_Gradients2_IFCB_Abundance')\n",
    "# convert data from wide to long for better analysis\n",
    "ifcb_long = pd.melt(ifcb_g2,\n",
    "                       ['time','lat','lon','depth','Sample','Total_Cells', 'Temperature','Salinity'],\n",
    "                       var_name='species',\n",
    "                       value_name='abundance').dropna()\n",
    "# adjust abundance to be in same scale as seaflow (cells/L -> cells/µL)\n",
    "ifcb_long['abundance'] = ifcb_long['abundance']/1e+6\n",
    "ifcb_long['Total_Cells'] = ifcb_long['Total_Cells']/1e+6\n",
    "# group by same time scale as pro/syn from seaflow data\n",
    "ifcb_long['time'] = pd.DatetimeIndex(ifcb_long['time'])\n",
    "ifcb_12H = ifcb_long.groupby([pd.Grouper(key=\"time\", freq='12H'), \n",
    "                            pd.Grouper(key=\"species\")]).mean().reset_index()\n",
    "\n",
    "# plot total cell abundance and temp together\n",
    "fig, ax1 = plt.subplots(figsize=(8,6))\n",
    "\n",
    "ax2 = ax1.twinx()\n",
    "# plot cell abundance on one side\n",
    "ax1.plot(ifcb_12H['lat'], ifcb_12H['Total_Cells'], marker='o', linestyle='', color='g')\n",
    "# plot temperature on other side\n",
    "ax2.plot(ifcb_12H['lat'], ifcb_12H['Temperature'], marker='o', linestyle='', color='b')\n",
    "\n",
    "ax1.set_xlabel('lat')\n",
    "ax1.set_ylabel('Total Cells Abundance (µL)', color='g')\n",
    "ax2.set_ylabel('Temperature', color='b')\n",
    "\n",
    "plt.show()\n",
    "# total abundance of cells much lower than seaflow abundances, especially Pro- which makes sense"
   ]
  },
  {
   "cell_type": "code",
   "execution_count": null,
   "metadata": {},
   "outputs": [],
   "source": [
    "## categorize ifcb species into higher level groups\n",
    "# convert R code to Python :("
   ]
  },
  {
   "cell_type": "code",
   "execution_count": null,
   "metadata": {},
   "outputs": [],
   "source": [
    "species_list"
   ]
  },
  {
   "cell_type": "code",
   "execution_count": null,
   "metadata": {},
   "outputs": [],
   "source": [
    "# everything on the genus level\n",
    "record_list = []\n",
    "species_list = pd.unique(ifcb_12H['species'])\n",
    "for species in species_list:\n",
    "    # get aphia records\n",
    "    records = pyworms.aphiaRecordsByName(species, marine_only=False)\n",
    "    # loop through records\n",
    "    for record in records:\n",
    "        # check if genus level and status is up to date\n",
    "        print(species)\n",
    "        if (record['status']=='accepted') & (record['rank']=='Genus'):\n",
    "            # get classifications- haptophytes\n",
    "            if record['phylum']=='Hatophyta':\n",
    "                cat = {record['scientificname']:'Hatophyta'}\n",
    "            # diatoms\n",
    "            elif record['phylum']=='Ochrophyta':\n",
    "                cat = {record['scientificname']:'Bacillariophyceae'}\n",
    "            # dinoflagellate phylum\n",
    "            elif record['phylum'] == 'Myzozoa':\n",
    "                cat = {record['scientificname']:'Dinoflagellata'}\n",
    "            # other- add N-fixers later?\n",
    "            else:\n",
    "                cat = {record['scientificname']:'Other'}\n",
    "            # append category to record list\n",
    "            record_list.append(cat)\n",
    "        break"
   ]
  },
  {
   "cell_type": "code",
   "execution_count": null,
   "metadata": {},
   "outputs": [],
   "source": [
    "pyworms.aphiaRecordsByName('Discophaera', marine_only=False)"
   ]
  },
  {
   "cell_type": "code",
   "execution_count": null,
   "metadata": {},
   "outputs": [],
   "source": [
    "species_list"
   ]
  },
  {
   "cell_type": "markdown",
   "metadata": {},
   "source": [
    "### Data from Flombaum et al 2013"
   ]
  },
  {
   "cell_type": "code",
   "execution_count": null,
   "metadata": {},
   "outputs": [],
   "source": [
    "# flowcytometry data that went into Flombaum et al\n",
    "fl_2013 = api.get_dataset('tblFlombaum')"
   ]
  },
  {
   "cell_type": "code",
   "execution_count": null,
   "metadata": {},
   "outputs": [],
   "source": [
    "# lets look at prochlorococcus abundance above 50 m\n",
    "fl_surface = fl_2013[fl_2013['depth']>= 50]\n",
    "pro_min, pro_max = np.min(fl_surface['prochlorococcus_abundance_flombaum']), np.max(fl_surface['prochlorococcus_abundance_flombaum'])\n",
    "px.scatter_geo(fl_surface, lat='lat',lon='lon',color='prochlorococcus_abundance_flombaum', \n",
    "               animation_frame='year', range_color=[pro_min, pro_max])"
   ]
  }
 ],
 "metadata": {
  "kernelspec": {
   "display_name": "Python [conda env:root] *",
   "language": "python",
   "name": "conda-root-py"
  },
  "language_info": {
   "codemirror_mode": {
    "name": "ipython",
    "version": 3
   },
   "file_extension": ".py",
   "mimetype": "text/x-python",
   "name": "python",
   "nbconvert_exporter": "python",
   "pygments_lexer": "ipython3",
   "version": "3.7.6"
  }
 },
 "nbformat": 4,
 "nbformat_minor": 4
}
