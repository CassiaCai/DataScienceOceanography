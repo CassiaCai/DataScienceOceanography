{
 "cells": [
  {
   "cell_type": "code",
   "execution_count": null,
   "id": "d6dd10a3-011f-48cf-a7b9-5f863ac62e96",
   "metadata": {},
   "outputs": [],
   "source": [
    "import pathlib\n",
    "import pandas as pd\n",
    "import matplotlib.pyplot as plt\n",
    "import geopandas\n",
    "import numpy as np\n",
    "\n",
    "import plotly.express as px\n",
    "\n",
    "\n",
    "df = pd.read_parquet(pathlib.Path('~/Tutorials/Marine Geology and Geophysics/earthquakes.parquet'))\n",
    "df = df.set_index(df.time)\n",
    "\n",
    "gdf = geopandas.GeoDataFrame(df, geometry=geopandas.points_from_xy(df.longitude, df.latitude),crs=4326)"
   ]
  },
  {
   "cell_type": "code",
   "execution_count": null,
   "id": "d849df76-6388-49b4-a6d0-5d89cbce8872",
   "metadata": {
    "tags": []
   },
   "outputs": [],
   "source": [
    "gdf.drop(columns='time')[gdf.mag>6].explore(column='mag') # geopandas makes nice maps"
   ]
  },
  {
   "cell_type": "code",
   "execution_count": null,
   "id": "8d993d4f-6f39-44e9-954d-177020925146",
   "metadata": {
    "tags": []
   },
   "outputs": [],
   "source": [
    "import numpy as np\n",
    "df['year'] = pd.DatetimeIndex(df['time']).year # add year as a category to group by\n",
    "df['marker_size'] = np.fix(np.exp(df['mag'])) # add marker size as exp(mag)"
   ]
  },
  {
   "cell_type": "code",
   "execution_count": null,
   "id": "9b2b6ce2-e7f2-490a-9d2f-2e8c1c9367fa",
   "metadata": {},
   "outputs": [],
   "source": [
    "px.histogram(df[df.mag>2], x=\"mag\", animation_frame=\"year\",nbins=50,range_x=[2,9], range_y=[0,10e3], height=400, width=600)"
   ]
  },
  {
   "cell_type": "code",
   "execution_count": null,
   "id": "5fa62152-097c-4ea2-b76f-5b78d9b11ea7",
   "metadata": {
    "tags": []
   },
   "outputs": [],
   "source": [
    "fig = px.scatter_geo(df[df.mag>5],\n",
    "                     lat='latitude',lon='longitude', \n",
    "                     size='marker_size', color='mag',\n",
    "                     hover_name='place', hover_data=['mag','depth','latitude','longitude', 'time'], \n",
    "                     range_color=(6,9),\n",
    "                     height=800, width=1400,\n",
    "                     animation_frame=\"year\")\n",
    "fig.update_geos(resolution=50, showcountries=True)\n",
    "fig.show()"
   ]
  },
  {
   "cell_type": "code",
   "execution_count": null,
   "id": "ba92b9b4-3ed4-4cd3-b325-ecc1790267b3",
   "metadata": {},
   "outputs": [],
   "source": [
    "fig.write_html(\"EarthquakesYears.html\")"
   ]
  },
  {
   "cell_type": "code",
   "execution_count": null,
   "id": "23efc5ce-02bc-4725-be48-5346f62d4c52",
   "metadata": {},
   "outputs": [],
   "source": [
    "fig = px.scatter_geo(df[df.mag>6],\n",
    "                     lat='latitude',lon='longitude', \n",
    "                     size='marker_size', color='mag',\n",
    "                     hover_name='place', hover_data=['mag','depth','latitude','longitude', 'time'], \n",
    "                     range_color=(6,9),\n",
    "                     height=800, width=1400)\n",
    "fig.update_geos(resolution=50, showcountries=True, showlakes=True,projection_type='orthographic')\n",
    "fig.show()"
   ]
  },
  {
   "cell_type": "code",
   "execution_count": null,
   "id": "38ce67ac-0805-4a23-9f41-2e71466e7e03",
   "metadata": {},
   "outputs": [],
   "source": [
    "fig.write_html(\"EarthquakesMag6+.html\")"
   ]
  },
  {
   "cell_type": "code",
   "execution_count": null,
   "id": "00e304ec-9713-4064-a17e-b703569bf6a6",
   "metadata": {},
   "outputs": [],
   "source": []
  }
 ],
 "metadata": {
  "kernelspec": {
   "display_name": "Python 3",
   "language": "python",
   "name": "python3"
  },
  "language_info": {
   "codemirror_mode": {
    "name": "ipython",
    "version": 3
   },
   "file_extension": ".py",
   "mimetype": "text/x-python",
   "name": "python",
   "nbconvert_exporter": "python",
   "pygments_lexer": "ipython3",
   "version": "3.7.6"
  }
 },
 "nbformat": 4,
 "nbformat_minor": 5
}
